{
  "nbformat": 4,
  "nbformat_minor": 0,
  "metadata": {
    "colab": {
      "provenance": []
    },
    "kernelspec": {
      "name": "python3",
      "display_name": "Python 3"
    },
    "language_info": {
      "name": "python"
    }
  },
  "cells": [
    {
      "cell_type": "code",
      "execution_count": 1,
      "metadata": {
        "id": "xRwNzmFkmlh1",
        "colab": {
          "base_uri": "https://localhost:8080/"
        },
        "outputId": "b0a3138a-a841-44fb-ad18-9063aff502cc"
      },
      "outputs": [
        {
          "output_type": "stream",
          "name": "stdout",
          "text": [
            "Masukkan 4 nama satpam:\n",
            "Masukkan nama satpam ke-1: Bagus\n",
            "Masukkan nama satpam ke-2: Asyrof\n",
            "Masukkan nama satpam ke-3: Filbert\n",
            "Masukkan nama satpam ke-4: Dafa\n",
            "\n",
            " Jadwal Piket Satpam Selama 2 Minggu:\n",
            "\n",
            "Hari 1: Bagus\n",
            "Hari 2: Asyrof\n",
            "Hari 3: Filbert\n",
            "Hari 4: Dafa\n",
            "Hari 5: Bagus\n",
            "Hari 6: Asyrof\n",
            "Hari 7: Filbert\n",
            "Hari 8: Dafa\n",
            "Hari 9: Bagus\n",
            "Hari 10: Asyrof\n",
            "Hari 11: Filbert\n",
            "Hari 12: Dafa\n",
            "Hari 13: Bagus\n",
            "Hari 14: Asyrof\n"
          ]
        }
      ],
      "source": [
        "# Definisi Node dalam Circular Linked List\n",
        "class SatpamNode:\n",
        "    def __init__(self, name):\n",
        "        self.name = name\n",
        "        self.next = None  # Pointer ke satpam berikutnya\n",
        "\n",
        "# Definisi Circular Linked List untuk Jadwal Piket\n",
        "class CircularSatpamList:\n",
        "    def __init__(self):\n",
        "        self.head = None  # Awalnya tidak ada satpam\n",
        "\n",
        "    # Menambahkan satpam ke Circular Linked List\n",
        "    def add_satpam(self, name):\n",
        "        new_satpam = SatpamNode(name)\n",
        "        if not self.head:\n",
        "            self.head = new_satpam\n",
        "            self.head.next = self.head  # Circular: menunjuk ke dirinya sendiri\n",
        "        else:\n",
        "            temp = self.head\n",
        "            while temp.next != self.head:  # Cari node terakhir\n",
        "                temp = temp.next\n",
        "            temp.next = new_satpam\n",
        "            new_satpam.next = self.head  # Buat circular kembali ke head\n",
        "\n",
        "    # Menampilkan jadwal piket selama 14 hari\n",
        "    def show_schedule(self, total_days=14):\n",
        "        if not self.head:\n",
        "            print(\"Tidak ada satpam yang terdaftar!\")\n",
        "            return\n",
        "\n",
        "        print(\"\\n Jadwal Piket Satpam Selama 2 Minggu:\\n\")\n",
        "        current = self.head\n",
        "        for day in range(1, total_days + 1):\n",
        "            print(f\"Hari {day}: {current.name}\")\n",
        "            current = current.next  # Berpindah ke satpam berikutnya\n",
        "\n",
        "# --- Program Utama --- #\n",
        "\n",
        "# Membuat objek Circular Linked List\n",
        "jadwal_satpam = CircularSatpamList()\n",
        "\n",
        "# Meminta pengguna memasukkan 4 nama satpam\n",
        "print(\"Masukkan 4 nama satpam:\")\n",
        "for i in range(1, 5):\n",
        "    nama = input(f\"Masukkan nama satpam ke-{i}: \")\n",
        "    jadwal_satpam.add_satpam(nama)\n",
        "\n",
        "# Menampilkan jadwal piket selama 14 hari\n",
        "jadwal_satpam.show_schedule()\n"
      ]
    }
  ]
}